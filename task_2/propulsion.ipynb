{
 "cells": [
  {
   "cell_type": "code",
   "execution_count": 1,
   "metadata": {},
   "outputs": [
    {
     "ename": "ModuleNotFoundError",
     "evalue": "No module named 'tensorflow'",
     "output_type": "error",
     "traceback": [
      "\u001b[1;31m---------------------------------------------------------------------------\u001b[0m",
      "\u001b[1;31mModuleNotFoundError\u001b[0m                       Traceback (most recent call last)",
      "\u001b[1;32m<ipython-input-1-8e35d0d0972d>\u001b[0m in \u001b[0;36m<module>\u001b[1;34m\u001b[0m\n\u001b[0;32m     17\u001b[0m \u001b[1;32mfrom\u001b[0m \u001b[0msklearn\u001b[0m\u001b[1;33m.\u001b[0m\u001b[0mensemble\u001b[0m \u001b[1;32mimport\u001b[0m \u001b[0mExtraTreesRegressor\u001b[0m\u001b[1;33m\u001b[0m\u001b[1;33m\u001b[0m\u001b[0m\n\u001b[0;32m     18\u001b[0m \u001b[1;32mfrom\u001b[0m \u001b[0msklearn\u001b[0m\u001b[1;33m.\u001b[0m\u001b[0msvm\u001b[0m \u001b[1;32mimport\u001b[0m \u001b[0mSVR\u001b[0m\u001b[1;33m\u001b[0m\u001b[1;33m\u001b[0m\u001b[0m\n\u001b[1;32m---> 19\u001b[1;33m \u001b[1;32mimport\u001b[0m \u001b[0mtensorflow\u001b[0m \u001b[1;32mas\u001b[0m \u001b[0mtf\u001b[0m\u001b[1;33m\u001b[0m\u001b[1;33m\u001b[0m\u001b[0m\n\u001b[0m\u001b[0;32m     20\u001b[0m \u001b[1;32mfrom\u001b[0m \u001b[0msklearn\u001b[0m\u001b[1;33m.\u001b[0m\u001b[0mfeature_selection\u001b[0m \u001b[1;32mimport\u001b[0m \u001b[0mSelectKBest\u001b[0m\u001b[1;33m,\u001b[0m \u001b[0mchi2\u001b[0m\u001b[1;33m,\u001b[0m \u001b[0mf_regression\u001b[0m\u001b[1;33m\u001b[0m\u001b[1;33m\u001b[0m\u001b[0m\n",
      "\u001b[1;31mModuleNotFoundError\u001b[0m: No module named 'tensorflow'"
     ]
    }
   ],
   "source": [
    "import numpy as np\n",
    "import matplotlib.pyplot as plt\n",
    "import seaborn as sns\n",
    "import pandas as pd\n",
    "from sklearn.model_selection import train_test_split\n",
    "from sklearn.linear_model import LinearRegression\n",
    "from sklearn.linear_model import Ridge\n",
    "from sklearn.ensemble import BaggingRegressor\n",
    "from sklearn.ensemble import RandomForestRegressor\n",
    "from sklearn.ensemble import ExtraTreesRegressor\n",
    "from sklearn.tree import DecisionTreeRegressor\n",
    "from sklearn.neighbors import KNeighborsRegressor\n",
    "from sklearn.feature_selection import mutual_info_regression\n",
    "from sklearn.metrics import *\n",
    "from sklearn.preprocessing import StandardScaler\n",
    "from sklearn.feature_selection import RFE\n",
    "from sklearn.ensemble import ExtraTreesRegressor\n",
    "from sklearn.svm import SVR\n",
    "import tensorflow as tf\n",
    "from sklearn.feature_selection import SelectKBest, chi2, f_regression"
   ]
  },
  {
   "cell_type": "code",
   "execution_count": null,
   "metadata": {},
   "outputs": [],
   "source": [
    "data=pd.read_csv('propulsion.csv')"
   ]
  },
  {
   "cell_type": "markdown",
   "metadata": {},
   "source": [
    "# Data cleaning"
   ]
  },
  {
   "cell_type": "code",
   "execution_count": null,
   "metadata": {},
   "outputs": [],
   "source": [
    "data.drop('Unnamed: 0', axis=1, inplace=True)"
   ]
  },
  {
   "cell_type": "code",
   "execution_count": null,
   "metadata": {},
   "outputs": [],
   "source": [
    "#renaming columns\n",
    "data.columns\n",
    "data.columns = ['lever_position', 'ship_speed', 'gt_shaft', 'gt_rate',\n",
    "                     'gg_rate', 'sp_torque', 'pp_torque', 'hpt_temp',\n",
    "                     'gt_c_i_temp', 'gt_c_o_temp', 'hpt_pressure',\n",
    "                     'gt_c_i_pressure', 'gt_c_o_pressure',\n",
    "                     'gt_exhaust_pressure', 'turbine_inj_control', 'fuel_flow',\n",
    "                     'gt_c_decay',  'gt_t_decay']"
   ]
  },
  {
   "cell_type": "code",
   "execution_count": null,
   "metadata": {},
   "outputs": [],
   "source": [
    "#checking for misssing values\n",
    "data.isnull().sum()"
   ]
  },
  {
   "cell_type": "code",
   "execution_count": null,
   "metadata": {},
   "outputs": [],
   "source": [
    "#dropping two constant value columns GT compressor inlet air temperature and \n",
    "#GT compressor inlet air pressure\n",
    "data.drop(['gt_c_i_temp', 'gt_c_i_pressure'], axis=1 ,inplace=True)"
   ]
  },
  {
   "cell_type": "code",
   "execution_count": null,
   "metadata": {},
   "outputs": [],
   "source": [
    "data.info()"
   ]
  },
  {
   "cell_type": "code",
   "execution_count": null,
   "metadata": {},
   "outputs": [],
   "source": [
    "data.describe()"
   ]
  },
  {
   "cell_type": "code",
   "execution_count": null,
   "metadata": {},
   "outputs": [],
   "source": [
    "data.corr('pearson')"
   ]
  },
  {
   "cell_type": "code",
   "execution_count": null,
   "metadata": {},
   "outputs": [],
   "source": [
    "data.corr('spearman')"
   ]
  },
  {
   "cell_type": "markdown",
   "metadata": {},
   "source": [
    "# Visualizations"
   ]
  },
  {
   "cell_type": "code",
   "execution_count": null,
   "metadata": {},
   "outputs": [],
   "source": [
    "data['lever_position'].iloc[0:50].plot()"
   ]
  },
  {
   "cell_type": "code",
   "execution_count": null,
   "metadata": {},
   "outputs": [],
   "source": [
    "data['ship_speed'].iloc[0:50].plot()"
   ]
  },
  {
   "cell_type": "code",
   "execution_count": null,
   "metadata": {},
   "outputs": [],
   "source": [
    "data['gt_shaft'].iloc[0:50].plot()"
   ]
  },
  {
   "cell_type": "code",
   "execution_count": null,
   "metadata": {},
   "outputs": [],
   "source": [
    "sns.heatmap(data.corr(), annot=True, robust=True)"
   ]
  },
  {
   "cell_type": "code",
   "execution_count": null,
   "metadata": {},
   "outputs": [],
   "source": [
    "sns.pairplot(data.iloc[:, [2, 3, 4, 14]], hue='gt_c_decay')"
   ]
  },
  {
   "cell_type": "code",
   "execution_count": null,
   "metadata": {},
   "outputs": [],
   "source": [
    "sns.pairplot(data.iloc[:, [5, 6, 7, 14]], hue='gt_c_decay')"
   ]
  },
  {
   "cell_type": "code",
   "execution_count": null,
   "metadata": {},
   "outputs": [],
   "source": [
    "sns.pairplot(data.iloc[:, [8, 9, 10, 14]], hue='gt_c_decay')"
   ]
  },
  {
   "cell_type": "code",
   "execution_count": null,
   "metadata": {},
   "outputs": [],
   "source": [
    "sns.pairplot(data.iloc[:, [11, 12, 13, 14]], hue='gt_c_decay')"
   ]
  },
  {
   "cell_type": "code",
   "execution_count": null,
   "metadata": {},
   "outputs": [],
   "source": [
    "sns.pairplot(data.iloc[:, [2, 3, 4, 15]], hue='gt_t_decay')"
   ]
  },
  {
   "cell_type": "code",
   "execution_count": null,
   "metadata": {},
   "outputs": [],
   "source": [
    "sns.pairplot(data.iloc[:, [5, 6, 7, 15]], hue='gt_t_decay')"
   ]
  },
  {
   "cell_type": "code",
   "execution_count": null,
   "metadata": {},
   "outputs": [],
   "source": [
    "sns.pairplot(data.iloc[:, [8, 9, 10, 15]], hue='gt_t_decay')"
   ]
  },
  {
   "cell_type": "code",
   "execution_count": null,
   "metadata": {},
   "outputs": [],
   "source": [
    "sns.pairplot(data.iloc[:, [11, 12, 13, 14, 15]], hue='gt_t_decay')"
   ]
  },
  {
   "cell_type": "code",
   "execution_count": null,
   "metadata": {},
   "outputs": [],
   "source": [
    "#splitting\n",
    "data2=data\n",
    "X = data2.iloc[:, 0:14]\n",
    "y= data2.iloc[:, 14] #GT Compressor decay state coefficient\n",
    "y2=data2.iloc[:, 15] #GT Turbine decay state coefficient"
   ]
  },
  {
   "cell_type": "markdown",
   "metadata": {},
   "source": [
    "# Feature selection"
   ]
  },
  {
   "cell_type": "code",
   "execution_count": null,
   "metadata": {},
   "outputs": [],
   "source": [
    "# feature selection for GT compressor decay state coefficient\n",
    "X_train, X_test, y_train1, y_test1 = train_test_split(X, y, test_size=0.20, \n",
    "                                                      random_state=0)"
   ]
  },
  {
   "cell_type": "code",
   "execution_count": null,
   "metadata": {},
   "outputs": [],
   "source": [
    "f_selector = SelectKBest(score_func=f_regression, k='all')\n",
    "# learn relationship from training data\n",
    "f_selector.fit(X_train, y_train1)\n",
    "# transform train input data\n",
    "X_train_fs = f_selector.transform(X_train)\n",
    "# transform test input data\n",
    "X_test_fs = f_selector.transform(X_test)\n",
    "# Plot the scores for the features\n",
    "plt.bar([i for i in range(len(f_selector.scores_))], f_selector.scores_)\n",
    "plt.xlabel(\"feature index\")\n",
    "plt.ylabel(\"F-value (transformed from the correlation values)\")\n",
    "plt.show()\n",
    "# The top selected features for GT compressor decay state coefficient are 7 8 12 11 and 4 "
   ]
  },
  {
   "cell_type": "code",
   "execution_count": null,
   "metadata": {},
   "outputs": [],
   "source": [
    "# feature selection for GT Turbine decay state coefficient\n",
    "X_train, X_test, y_train2, y_test2 = train_test_split(X, y2, test_size=0.20, \n",
    "                                                      random_state=0)\n",
    "\n",
    "f_selector = SelectKBest(score_func=f_regression, k='all')\n",
    "# learn relationship from training data\n",
    "f_selector.fit(X_train, y_train2)\n",
    "# transform train input data\n",
    "X_train_fs = f_selector.transform(X_train)\n",
    "# transform test input data\n",
    "X_test_fs = f_selector.transform(X_test)\n",
    "# Plot the scores for the features\n",
    "plt.bar([i for i in range(len(f_selector.scores_))], f_selector.scores_)\n",
    "plt.xlabel(\"feature index\")\n",
    "plt.ylabel(\"F-value (transformed from the correlation values)\")\n",
    "plt.show()\n",
    "#The top selected features for GT Turbine decay state coefficient are 7 11 10 12 and 4"
   ]
  },
  {
   "cell_type": "markdown",
   "metadata": {},
   "source": [
    "#### I have evaluated the models with the selected features, but the error was increasing instead of decreasing. Hence I decided to keep all the features in the final model as it gives comparatively less error."
   ]
  },
  {
   "cell_type": "markdown",
   "metadata": {},
   "source": [
    "# Model building"
   ]
  },
  {
   "cell_type": "markdown",
   "metadata": {},
   "source": [
    "### Models for GT Compressor decay state coefficient"
   ]
  },
  {
   "cell_type": "code",
   "execution_count": null,
   "metadata": {},
   "outputs": [],
   "source": [
    "def reg_model(model):\n",
    "    regressor=model\n",
    "    regressor.fit(X_train, y_train1)\n",
    "    y_pred=regressor.predict(X_test)\n",
    "    r2_s=r2_score(y_test1, y_pred)\n",
    "    mse=mean_squared_error(y_test1, y_pred)\n",
    "    rmse=np.sqrt(mse)\n",
    "    print(model)\n",
    "    print(\"r2 score:\", r2_s)\n",
    "    print(\"rmse score:\", rmse)\n",
    "    return\n",
    "\n",
    "reg_model(RandomForestRegressor(n_estimators=100, random_state=42)) \n",
    "reg_model(DecisionTreeRegressor())\n",
    "reg_model(LinearRegression())\n",
    "reg_model(SVR(kernel = 'rbf')) "
   ]
  },
  {
   "cell_type": "markdown",
   "metadata": {},
   "source": [
    "### Models for GT Turbine decay state coefficient"
   ]
  },
  {
   "cell_type": "code",
   "execution_count": null,
   "metadata": {},
   "outputs": [],
   "source": [
    "def reg_model(model):\n",
    "    regressor=model\n",
    "    regressor.fit(X_train, y_train2)\n",
    "    y_pred=regressor.predict(X_test)\n",
    "    r2_s=r2_score(y_test2, y_pred)\n",
    "    mse=mean_squared_error(y_test2, y_pred)\n",
    "    rmse=np.sqrt(mse)\n",
    "    print(model)\n",
    "    print(\"r2 score:\", r2_s)\n",
    "    print(\"rmse score:\", rmse)\n",
    "    return\n",
    "\n",
    "reg_model(RandomForestRegressor(n_estimators=500, random_state=42)) \n",
    "reg_model(DecisionTreeRegressor())\n",
    "reg_model(LinearRegression())\n",
    "reg_model(SVR(kernel = 'rbf'))"
   ]
  },
  {
   "cell_type": "markdown",
   "metadata": {},
   "source": [
    "### Creating an ANN for GT Compressor decay state coefficient"
   ]
  },
  {
   "cell_type": "code",
   "execution_count": null,
   "metadata": {},
   "outputs": [],
   "source": [
    "sc = StandardScaler()\n",
    "X_train = sc.fit_transform(X_train)\n",
    "X_test = sc.transform(X_test)\n",
    "\n",
    "ann = tf.keras.models.Sequential()\n",
    "ann.add(tf.keras.layers.Dense(units=6, activation='relu'))\n",
    "ann.add(tf.keras.layers.Dense(units=6, activation='relu'))\n",
    "ann.add(tf.keras.layers.Dense(units=1))\n",
    "ann.compile(optimizer = 'adam', loss = 'mean_squared_error')\n",
    "ann.fit(X_train, y_train1, batch_size = 32, epochs = 100)\n",
    "y_pred = ann.predict(X_test)\n",
    "\n",
    "gtcc_ann_mse = mean_squared_error(y_test1, y_pred)\n",
    "gtcc_ann_rmse = np.sqrt(gtcc_ann_mse)\n",
    "gtcc_ann_mse = (y_test1, y_pred)\n",
    "gtcc_ann_r2_score = r2_score(y_test1, y_pred)\n",
    "print('GTCC mean square error:', gtcc_ann_mse)\n",
    "print('GTCC root mean square error:', gtcc_ann_rmse)\n",
    "print('GTCC R2 score:', gtcc_ann_r2_score)"
   ]
  },
  {
   "cell_type": "markdown",
   "metadata": {},
   "source": [
    "### Creating an ANN for predicting GT Turbine decay state coefficient"
   ]
  },
  {
   "cell_type": "code",
   "execution_count": null,
   "metadata": {},
   "outputs": [],
   "source": [
    "ann = tf.keras.models.Sequential()\n",
    "ann.add(tf.keras.layers.Dense(units=6, activation='relu'))\n",
    "ann.add(tf.keras.layers.Dense(units=6, activation='relu'))\n",
    "ann.add(tf.keras.layers.Dense(units=1))\n",
    "ann.compile(optimizer = 'adam', loss = 'mean_squared_error')\n",
    "ann.fit(X_train, y_train2, batch_size = 32, epochs = 100)\n",
    "y_pred = ann.predict(X_test)\n",
    "\n",
    "gttc_ann_mse = mean_squared_error(y_test2, y_pred)\n",
    "gttc_ann_rmse = np.sqrt(gttc_ann_mse)\n",
    "gttc_ann_mse = (y_test2, y_pred)\n",
    "gttc_ann_r2_score = r2_score(y_test2, y_pred)\n",
    "print('GTTC mean square error:', gttc_ann_mse)\n",
    "print('GTTC root mean square error:', gttc_ann_rmse)\n",
    "print('GTTC R2 score:', gttc_ann_r2_score)"
   ]
  },
  {
   "cell_type": "markdown",
   "metadata": {},
   "source": [
    "### Here too the Random forest shines as the best model as it gives highest R2 score and lowest RMSE. Hence I have used it in the application, as it outperforms the ANN too!"
   ]
  }
 ],
 "metadata": {
  "kernelspec": {
   "display_name": "Python 3",
   "language": "python",
   "name": "python3"
  },
  "language_info": {
   "codemirror_mode": {
    "name": "ipython",
    "version": 3
   },
   "file_extension": ".py",
   "mimetype": "text/x-python",
   "name": "python",
   "nbconvert_exporter": "python",
   "pygments_lexer": "ipython3",
   "version": "3.8.3"
  }
 },
 "nbformat": 4,
 "nbformat_minor": 4
}
